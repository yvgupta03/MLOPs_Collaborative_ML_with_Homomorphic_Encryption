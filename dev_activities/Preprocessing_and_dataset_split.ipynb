{
  "nbformat": 4,
  "nbformat_minor": 0,
  "metadata": {
    "colab": {
      "provenance": []
    },
    "kernelspec": {
      "name": "python3",
      "display_name": "Python 3"
    },
    "language_info": {
      "name": "python"
    }
  },
  "cells": [
    {
      "cell_type": "code",
      "source": [
        "import numpy as np\n",
        "import matplotlib.pyplot as plt\n",
        "import pandas as pd\n",
        "import seaborn as sns #modern plotting\n",
        "from sklearn.model_selection import train_test_split\n",
        "from sklearn import svm\n",
        "from sklearn.metrics import accuracy_score\n",
        "from sklearn.linear_model import LogisticRegression"
      ],
      "metadata": {
        "id": "KuSb7AFbnGlW"
      },
      "execution_count": null,
      "outputs": []
    },
    {
      "cell_type": "code",
      "source": [
        "df = pd.read_csv('https://personal.utdallas.edu/~pxn210006/smoking.csv')"
      ],
      "metadata": {
        "id": "leQAhnaDnPyT"
      },
      "execution_count": null,
      "outputs": []
    },
    {
      "cell_type": "code",
      "source": [
        "# renaming columns\n",
        "df.rename(columns={'height(cm)':'height', 'weight(kg)':'weight','waist(cm)':'waist',\n",
        "                        'eyesight(left)':'eyesight_left', 'eyesight(right)':'eyesight_right',\n",
        "                        'hearing(left)':'hearing_left', 'hearing(right)':'hearing_right',\n",
        "                        'fasting blood sugar':'fasting_blood_sugar',  'Cholesterol':'cholesterol',\n",
        "                        'HDL':'hdl','LDL':'ldl','Urine protein':'urine_protein',\n",
        "                        'serum creatinine':'serum_creatinine', 'AST':'ast','ALT':'alt',\n",
        "                        'Gtp':'gtp', 'dental caries' : 'dental_caries'}, inplace=True)"
      ],
      "metadata": {
        "id": "xJGpuRZPn7Cp"
      },
      "execution_count": null,
      "outputs": []
    },
    {
      "cell_type": "code",
      "source": [
        "df['gender'] = df['gender'].str.replace('F','0')\n",
        "df['gender'] = df['gender'].str.replace('M','1')\n",
        "df['gender'] = pd.to_numeric(df['gender'])\n",
        "\n",
        "df['tartar'] = df['tartar'].str.replace('N','0')\n",
        "df['tartar'] = df['tartar'].str.replace('Y','1')\n",
        "df['tartar'] = pd.to_numeric(df['tartar'])\n",
        "\n",
        "df['oral'] = df['oral'].str.replace('N','0')\n",
        "df['oral'] = df['oral'].str.replace('Y','1')\n",
        "df['oral'] = pd.to_numeric(df['oral'])"
      ],
      "metadata": {
        "id": "YSZKnN7AoN2o"
      },
      "execution_count": null,
      "outputs": []
    },
    {
      "cell_type": "code",
      "source": [
        "#cleaning data by observation\n",
        "df = df.drop(['ID'], axis=1)"
      ],
      "metadata": {
        "id": "ttnMQXfzfvU9"
      },
      "execution_count": null,
      "outputs": []
    },
    {
      "cell_type": "code",
      "source": [
        "# removing oral column due to skewed data\n",
        "df = df.drop(\"oral\", axis='columns')"
      ],
      "metadata": {
        "id": "b8GR_2AafNM8"
      },
      "execution_count": null,
      "outputs": []
    },
    {
      "cell_type": "code",
      "source": [
        "#normalization\n",
        "def normalize_df(df):\n",
        "  for column in df.columns:\n",
        "    df[column] = (df[column] - df[column].min()) / (df[column].max() - df[column].min())\n",
        "  return df"
      ],
      "metadata": {
        "id": "VzVoZ8WgZkaD"
      },
      "execution_count": null,
      "outputs": []
    },
    {
      "cell_type": "code",
      "source": [
        "y = df['smoking']\n",
        "x = df.drop(\"smoking\", axis='columns')\n",
        "x_train, x_test, y_train, y_test = train_test_split(x,y, test_size=0.2, stratify=y, random_state=2)"
      ],
      "metadata": {
        "id": "yFyR8JTev7Gj"
      },
      "execution_count": null,
      "outputs": []
    },
    {
      "cell_type": "code",
      "source": [
        "#x_train = normalize_df(x_train)"
      ],
      "metadata": {
        "id": "Hn-CwjPjUze-"
      },
      "execution_count": null,
      "outputs": []
    },
    {
      "cell_type": "code",
      "source": [
        "df_new = x_train.join(y_train)\n",
        "df = df_new"
      ],
      "metadata": {
        "id": "FgFo41Ms-_E3"
      },
      "execution_count": null,
      "outputs": []
    },
    {
      "cell_type": "code",
      "source": [
        "from collections import Counter\n",
        "def outlier_detection(df, n, columns):\n",
        "    rows = []\n",
        "    will_drop_train = []\n",
        "    for col in columns:\n",
        "        Q1 = np.nanpercentile(df[col], 25)\n",
        "        Q3 = np.nanpercentile(df[col], 75)\n",
        "        IQR = Q3 - Q1\n",
        "        outlier_point = 1.5 * IQR\n",
        "        rows.extend(df[(df[col] < Q1 - outlier_point)|(df[col] > Q3 + outlier_point)].index)\n",
        "    for r, c in Counter(rows).items():\n",
        "        if c >= n: will_drop_train.append(r)\n",
        "    return will_drop_train\n",
        "\n",
        "will_drop_train = outlier_detection(df, 3, df.select_dtypes([\"float\", \"int\"]).columns)"
      ],
      "metadata": {
        "id": "jlX3dIgs1XIJ"
      },
      "execution_count": null,
      "outputs": []
    },
    {
      "cell_type": "code",
      "source": [
        "df.drop(will_drop_train, inplace = True, axis = 0)"
      ],
      "metadata": {
        "id": "vaa9tsxx2PFf"
      },
      "execution_count": null,
      "outputs": []
    },
    {
      "cell_type": "markdown",
      "source": [
        "#Data Clean up completed till here"
      ],
      "metadata": {
        "id": "n7DLKBpJZrLw"
      }
    },
    {
      "cell_type": "code",
      "source": [
        "# split dataset into age groups\n",
        "df1 = df[(df['age'] < 40)]\n",
        "df2 = df[(df['age'] >= 40) & (df['age'] <= 50)]\n",
        "df3 = df[(df['age'] > 50)]"
      ],
      "metadata": {
        "id": "He4twCpCaXwe"
      },
      "execution_count": null,
      "outputs": []
    },
    {
      "cell_type": "code",
      "source": [
        "print(len(df1))\n",
        "print(len(df2))\n",
        "print(len(df3))"
      ],
      "metadata": {
        "colab": {
          "base_uri": "https://localhost:8080/"
        },
        "id": "OtwZnf6QbQVg",
        "outputId": "8658fe48-00ff-4997-9509-eb94ebb71379"
      },
      "execution_count": null,
      "outputs": [
        {
          "output_type": "stream",
          "name": "stdout",
          "text": [
            "10082\n",
            "20626\n",
            "10228\n"
          ]
        }
      ]
    },
    {
      "cell_type": "code",
      "source": [
        "df1.to_csv(\"dataset1.csv\")\n",
        "df2.to_csv(\"dataset2.csv\")\n",
        "df3.to_csv(\"dataset3.csv\")"
      ],
      "metadata": {
        "id": "DXV7gj8EcflN"
      },
      "execution_count": null,
      "outputs": []
    },
    {
      "cell_type": "code",
      "source": [
        "test_data = x_test.join(y_test)\n",
        "y_testdf = test_data['smoking']\n",
        "x_testdf = test_data.drop(\"smoking\", axis='columns')"
      ],
      "metadata": {
        "id": "Br2XcCFTmWF5"
      },
      "execution_count": null,
      "outputs": []
    },
    {
      "cell_type": "code",
      "source": [
        "#we split x_test and y_test which is 20% of total data, further into two equal parts which is 10-10% of total data.\n",
        "#One part of this will be used to create initial dataset for base model and the other will be used as test dataset to check accuracy of model later on\n",
        "#Also the 80% of data that was split into 3 portions based on age attribute will be used to train base models of federated learning to show the significance of its training using Homomorphic Encryption\n",
        "x_init_model, x_test, y_init_model, y_test = train_test_split(x_testdf,y_testdf, test_size=0.5, stratify=y_testdf, random_state=5)\n",
        "#x_init_model = normalize_df(x_init_model)\n",
        "df_init_data = x_init_model.join(y_init_model)\n",
        "df_init_data.to_csv(\"dataset_initial_model.csv\")"
      ],
      "metadata": {
        "id": "Yag5BhELovRP"
      },
      "execution_count": null,
      "outputs": []
    },
    {
      "cell_type": "code",
      "source": [
        "# now downloading the dataset for test (10% of total dataset)\n",
        "df_test = x_test.join(y_test)\n",
        "df_test.to_csv(\"dataset_test.csv\")"
      ],
      "metadata": {
        "id": "KHlPnFfdj2G8"
      },
      "execution_count": null,
      "outputs": []
    },
    {
      "cell_type": "code",
      "source": [
        "print(df1.shape)\n",
        "print(df2.shape)\n",
        "print(df3.shape)\n",
        "print(df_init_data.shape)\n",
        "print(df_test.shape)"
      ],
      "metadata": {
        "colab": {
          "base_uri": "https://localhost:8080/"
        },
        "id": "N905gi89ly8H",
        "outputId": "0786d619-3ea3-4c30-f2c2-310330d46b0b"
      },
      "execution_count": null,
      "outputs": [
        {
          "output_type": "stream",
          "name": "stdout",
          "text": [
            "(10082, 27)\n",
            "(20626, 27)\n",
            "(10228, 27)\n",
            "(5569, 27)\n",
            "(5570, 27)\n"
          ]
        }
      ]
    },
    {
      "cell_type": "code",
      "source": [],
      "metadata": {
        "id": "2Kkp9JVtly4u"
      },
      "execution_count": null,
      "outputs": []
    },
    {
      "cell_type": "code",
      "source": [],
      "metadata": {
        "id": "5X8vZM9Kly13"
      },
      "execution_count": null,
      "outputs": []
    },
    {
      "cell_type": "code",
      "source": [],
      "metadata": {
        "id": "MMMBqW-IlyzC"
      },
      "execution_count": null,
      "outputs": []
    },
    {
      "cell_type": "markdown",
      "source": [
        "Now organizing df which holds train dataset"
      ],
      "metadata": {
        "id": "uh6FyPgSi0tT"
      }
    },
    {
      "cell_type": "code",
      "source": [
        "y = df['smoking']\n",
        "x = df.drop(['smoking','urine_protein', 'ast', 'cholesterol', 'fasting_blood_sugar', 'eyesight_left', 'eyesight_right', 'hearing_left', 'hearing_right', 'relaxation', 'systolic'], axis='columns')\n"
      ],
      "metadata": {
        "colab": {
          "base_uri": "https://localhost:8080/"
        },
        "id": "LMst8sEkonJU",
        "outputId": "15abea30-2578-4a57-fd0a-150ce53839c6"
      },
      "execution_count": null,
      "outputs": [
        {
          "output_type": "execute_result",
          "data": {
            "text/plain": [
              "((40905, 14), (40905,))"
            ]
          },
          "metadata": {},
          "execution_count": 26
        }
      ]
    },
    {
      "cell_type": "code",
      "source": [
        "x_train = x\n",
        "y_train = y\n",
        "x_test = normalize_df(x_test)\n",
        "x_test = x_test.drop(['urine_protein', 'ast', 'cholesterol', 'fasting_blood_sugar', 'eyesight_left', 'eyesight_right', 'hearing_left', 'hearing_right', 'relaxation', 'systolic'], axis='columns')\n"
      ],
      "metadata": {
        "id": "RavMgkreo12k"
      },
      "execution_count": null,
      "outputs": []
    },
    {
      "cell_type": "code",
      "source": [
        "lr = LogisticRegression(warm_start=True, max_iter=200)\n",
        "lr.fit(x_train,y_train)"
      ],
      "metadata": {
        "colab": {
          "base_uri": "https://localhost:8080/",
          "height": 74
        },
        "id": "kQ9Fk53Ao5ek",
        "outputId": "baf1c60f-3cea-4bab-b47a-4379808cbe35"
      },
      "execution_count": null,
      "outputs": [
        {
          "output_type": "execute_result",
          "data": {
            "text/plain": [
              "LogisticRegression(max_iter=200, warm_start=True)"
            ],
            "text/html": [
              "<style>#sk-container-id-1 {color: black;background-color: white;}#sk-container-id-1 pre{padding: 0;}#sk-container-id-1 div.sk-toggleable {background-color: white;}#sk-container-id-1 label.sk-toggleable__label {cursor: pointer;display: block;width: 100%;margin-bottom: 0;padding: 0.3em;box-sizing: border-box;text-align: center;}#sk-container-id-1 label.sk-toggleable__label-arrow:before {content: \"▸\";float: left;margin-right: 0.25em;color: #696969;}#sk-container-id-1 label.sk-toggleable__label-arrow:hover:before {color: black;}#sk-container-id-1 div.sk-estimator:hover label.sk-toggleable__label-arrow:before {color: black;}#sk-container-id-1 div.sk-toggleable__content {max-height: 0;max-width: 0;overflow: hidden;text-align: left;background-color: #f0f8ff;}#sk-container-id-1 div.sk-toggleable__content pre {margin: 0.2em;color: black;border-radius: 0.25em;background-color: #f0f8ff;}#sk-container-id-1 input.sk-toggleable__control:checked~div.sk-toggleable__content {max-height: 200px;max-width: 100%;overflow: auto;}#sk-container-id-1 input.sk-toggleable__control:checked~label.sk-toggleable__label-arrow:before {content: \"▾\";}#sk-container-id-1 div.sk-estimator input.sk-toggleable__control:checked~label.sk-toggleable__label {background-color: #d4ebff;}#sk-container-id-1 div.sk-label input.sk-toggleable__control:checked~label.sk-toggleable__label {background-color: #d4ebff;}#sk-container-id-1 input.sk-hidden--visually {border: 0;clip: rect(1px 1px 1px 1px);clip: rect(1px, 1px, 1px, 1px);height: 1px;margin: -1px;overflow: hidden;padding: 0;position: absolute;width: 1px;}#sk-container-id-1 div.sk-estimator {font-family: monospace;background-color: #f0f8ff;border: 1px dotted black;border-radius: 0.25em;box-sizing: border-box;margin-bottom: 0.5em;}#sk-container-id-1 div.sk-estimator:hover {background-color: #d4ebff;}#sk-container-id-1 div.sk-parallel-item::after {content: \"\";width: 100%;border-bottom: 1px solid gray;flex-grow: 1;}#sk-container-id-1 div.sk-label:hover label.sk-toggleable__label {background-color: #d4ebff;}#sk-container-id-1 div.sk-serial::before {content: \"\";position: absolute;border-left: 1px solid gray;box-sizing: border-box;top: 0;bottom: 0;left: 50%;z-index: 0;}#sk-container-id-1 div.sk-serial {display: flex;flex-direction: column;align-items: center;background-color: white;padding-right: 0.2em;padding-left: 0.2em;position: relative;}#sk-container-id-1 div.sk-item {position: relative;z-index: 1;}#sk-container-id-1 div.sk-parallel {display: flex;align-items: stretch;justify-content: center;background-color: white;position: relative;}#sk-container-id-1 div.sk-item::before, #sk-container-id-1 div.sk-parallel-item::before {content: \"\";position: absolute;border-left: 1px solid gray;box-sizing: border-box;top: 0;bottom: 0;left: 50%;z-index: -1;}#sk-container-id-1 div.sk-parallel-item {display: flex;flex-direction: column;z-index: 1;position: relative;background-color: white;}#sk-container-id-1 div.sk-parallel-item:first-child::after {align-self: flex-end;width: 50%;}#sk-container-id-1 div.sk-parallel-item:last-child::after {align-self: flex-start;width: 50%;}#sk-container-id-1 div.sk-parallel-item:only-child::after {width: 0;}#sk-container-id-1 div.sk-dashed-wrapped {border: 1px dashed gray;margin: 0 0.4em 0.5em 0.4em;box-sizing: border-box;padding-bottom: 0.4em;background-color: white;}#sk-container-id-1 div.sk-label label {font-family: monospace;font-weight: bold;display: inline-block;line-height: 1.2em;}#sk-container-id-1 div.sk-label-container {text-align: center;}#sk-container-id-1 div.sk-container {/* jupyter's `normalize.less` sets `[hidden] { display: none; }` but bootstrap.min.css set `[hidden] { display: none !important; }` so we also need the `!important` here to be able to override the default hidden behavior on the sphinx rendered scikit-learn.org. See: https://github.com/scikit-learn/scikit-learn/issues/21755 */display: inline-block !important;position: relative;}#sk-container-id-1 div.sk-text-repr-fallback {display: none;}</style><div id=\"sk-container-id-1\" class=\"sk-top-container\"><div class=\"sk-text-repr-fallback\"><pre>LogisticRegression(max_iter=200, warm_start=True)</pre><b>In a Jupyter environment, please rerun this cell to show the HTML representation or trust the notebook. <br />On GitHub, the HTML representation is unable to render, please try loading this page with nbviewer.org.</b></div><div class=\"sk-container\" hidden><div class=\"sk-item\"><div class=\"sk-estimator sk-toggleable\"><input class=\"sk-toggleable__control sk-hidden--visually\" id=\"sk-estimator-id-1\" type=\"checkbox\" checked><label for=\"sk-estimator-id-1\" class=\"sk-toggleable__label sk-toggleable__label-arrow\">LogisticRegression</label><div class=\"sk-toggleable__content\"><pre>LogisticRegression(max_iter=200, warm_start=True)</pre></div></div></div></div></div>"
            ]
          },
          "metadata": {},
          "execution_count": 28
        }
      ]
    },
    {
      "cell_type": "code",
      "source": [
        "x_train_prediction = lr.predict(x_train)\n",
        "training_data_accuracy = accuracy_score(x_train_prediction, y_train)\n",
        "print('Training data accuracy: ',training_data_accuracy)\n",
        "print('Test data accuracy: ',lr.score(x_test, y_test))"
      ],
      "metadata": {
        "colab": {
          "base_uri": "https://localhost:8080/"
        },
        "id": "rvU8QC20pB_r",
        "outputId": "371be1c8-4014-4291-f455-e71488583d6e"
      },
      "execution_count": null,
      "outputs": [
        {
          "output_type": "stream",
          "name": "stdout",
          "text": [
            "Training data accuracy:  0.7448478181151449\n",
            "Test data accuracy:  0.7391148217972888\n"
          ]
        }
      ]
    },
    {
      "cell_type": "code",
      "source": [
        "import joblib\n",
        "filename = 'finalized_model.sav'\n",
        "joblib.dump(lr, filename)"
      ],
      "metadata": {
        "colab": {
          "base_uri": "https://localhost:8080/"
        },
        "id": "D49HvD--vhQY",
        "outputId": "23a52258-40b0-4ce9-fc1f-16be6319bb9c"
      },
      "execution_count": null,
      "outputs": [
        {
          "output_type": "execute_result",
          "data": {
            "text/plain": [
              "['finalized_model.sav']"
            ]
          },
          "metadata": {},
          "execution_count": 30
        }
      ]
    },
    {
      "cell_type": "code",
      "source": [
        "loaded_model = joblib.load(filename)"
      ],
      "metadata": {
        "id": "rZBBO1mbvhM8"
      },
      "execution_count": null,
      "outputs": []
    },
    {
      "cell_type": "code",
      "source": [],
      "metadata": {
        "id": "UajroWJMl0aE"
      },
      "execution_count": null,
      "outputs": []
    },
    {
      "cell_type": "code",
      "source": [],
      "metadata": {
        "id": "KjSD5AjUl0Wr"
      },
      "execution_count": null,
      "outputs": []
    },
    {
      "cell_type": "code",
      "source": [],
      "metadata": {
        "id": "a8exAIwdl0Ur"
      },
      "execution_count": null,
      "outputs": []
    },
    {
      "cell_type": "code",
      "source": [],
      "metadata": {
        "id": "gLa7FlH7l0RT"
      },
      "execution_count": null,
      "outputs": []
    },
    {
      "cell_type": "code",
      "source": [
        "def create_model(df, print_flag=False):\n",
        "  y_train = df['smoking']\n",
        "  x_train = df.drop(['smoking','urine_protein', 'ast', 'cholesterol', 'fasting_blood_sugar', 'eyesight_left', 'eyesight_right', 'hearing_left', 'hearing_right', 'relaxation', 'systolic'], axis='columns')\n",
        "  lr1 = LogisticRegression(warm_start=True, max_iter=200)\n",
        "  lr1.fit(x_train,y_train)\n",
        "\n",
        "  if print_flag:\n",
        "    x_train_prediction = lr1.predict(x_train)\n",
        "    training_data_accuracy = accuracy_score(x_train_prediction, y_train)\n",
        "    print('Training data accuracy: ',training_data_accuracy)\n",
        "  return lr1\n"
      ],
      "metadata": {
        "id": "hQlyCxkDp3R2"
      },
      "execution_count": null,
      "outputs": []
    },
    {
      "cell_type": "code",
      "source": [
        "lst=[]\n",
        "for i in range(1,4):\n",
        "  filename = \"dataset\"+str(i)+\".csv\"\n",
        "  df = pd.read_csv(filename)\n",
        "  df = df.iloc[:, 1:] # removing unnamed index column from file\n",
        "  model = create_model(df)\n",
        "  lst.append(model)"
      ],
      "metadata": {
        "id": "j29HmQm3V5cf"
      },
      "execution_count": null,
      "outputs": []
    },
    {
      "cell_type": "code",
      "source": [
        "for i in range(0,3):\n",
        "  print(\"Model coef \",str(i),\" = \",lst[i].coef_)\n",
        "  print(\"Model intercept \",str(i),\" = \",lst[i].intercept_)"
      ],
      "metadata": {
        "colab": {
          "base_uri": "https://localhost:8080/"
        },
        "id": "zY49arb_q8ak",
        "outputId": "3b233153-901a-4c73-ee18-df9efd19d423"
      },
      "execution_count": null,
      "outputs": [
        {
          "output_type": "stream",
          "name": "stdout",
          "text": [
            "Model coef  0  =  [[ 2.41957102e-01 -2.99395594e-03  1.00771038e+00 -5.84837078e-01\n",
            "  -5.60283407e-01  3.23377346e+00 -4.74306703e-01 -3.51080568e+00\n",
            "   1.81395416e+00 -3.58312404e+00 -8.44441907e-01  7.39876374e+00\n",
            "   4.59710017e-01  3.42654208e-01]]\n",
            "Model intercept  0  =  [-2.12618245]\n",
            "Model coef  1  =  [[ 2.9589353  -0.56347476  1.37757607 -1.73961334  0.02508684  4.05575906\n",
            "   0.71388809 -3.04694471  2.21300561 -3.99621233 -1.32273699  6.65717003\n",
            "   0.35610032  0.34599789]]\n",
            "Model intercept  1  =  [-4.53919446]\n",
            "Model coef  2  =  [[ 3.12540635 -3.37297001  1.88186766 -3.40778113  0.85923322  4.27558984\n",
            "  -1.11847022 -1.35987345  1.24812573 -1.19353453 -1.08858923  4.4261181\n",
            "   0.17210912  0.25063433]]\n",
            "Model intercept  2  =  [-2.84469932]\n"
          ]
        }
      ]
    },
    {
      "cell_type": "code",
      "source": [
        "lst[0].coef_[0][0] = 0.44195710194803882"
      ],
      "metadata": {
        "id": "aET8nnqNseaX"
      },
      "execution_count": null,
      "outputs": []
    },
    {
      "cell_type": "code",
      "source": [
        "lst[0].coef_[0][0]"
      ],
      "metadata": {
        "colab": {
          "base_uri": "https://localhost:8080/"
        },
        "id": "lbgrg_m8tXCO",
        "outputId": "a05c5600-afb7-4e84-8096-80f6863e4311"
      },
      "execution_count": null,
      "outputs": [
        {
          "output_type": "execute_result",
          "data": {
            "text/plain": [
              "0.44195710194803883"
            ]
          },
          "metadata": {},
          "execution_count": 50
        }
      ]
    },
    {
      "cell_type": "code",
      "source": [
        "lst[0].classes_"
      ],
      "metadata": {
        "colab": {
          "base_uri": "https://localhost:8080/"
        },
        "id": "R9O6PsH_xv6S",
        "outputId": "deb8ff50-6c70-4973-968e-56b22ff881db"
      },
      "execution_count": null,
      "outputs": [
        {
          "output_type": "execute_result",
          "data": {
            "text/plain": [
              "array([0, 1])"
            ]
          },
          "metadata": {},
          "execution_count": 51
        }
      ]
    },
    {
      "cell_type": "code",
      "source": [],
      "metadata": {
        "id": "3s7aX7Z4x0tX"
      },
      "execution_count": null,
      "outputs": []
    }
  ]
}